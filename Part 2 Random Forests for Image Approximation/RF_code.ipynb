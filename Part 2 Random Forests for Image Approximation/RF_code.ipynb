{
 "cells": [
  {
   "cell_type": "code",
   "execution_count": 1,
   "metadata": {
    "collapsed": true
   },
   "outputs": [],
   "source": [
    "from sklearn.ensemble import RandomForestRegressor\n",
    "from sklearn.neighbors import NearestNeighbors, KNeighborsRegressor\n",
    "from scipy.misc import imsave, imread\n",
    "from numpy.random import randint\n",
    "from numpy import reshape, array, dstack, indices, swapaxes, vstack"
   ]
  },
  {
   "cell_type": "code",
   "execution_count": 2,
   "metadata": {
    "collapsed": false
   },
   "outputs": [
    {
     "name": "stdout",
     "output_type": "stream",
     "text": [
      "k = 2\n",
      "start fit R\n",
      "after fit R\n",
      "after predict R\n",
      "start fit G\n",
      "after fit G\n",
      "after predict G\n",
      "start fit B\n",
      "after fit B\n",
      "after predict B\n"
     ]
    },
    {
     "ename": "IOError",
     "evalue": "[Errno 2] No such file or directory: 'images/target2_n=100_ml=2.jpg'",
     "output_type": "error",
     "traceback": [
      "\u001b[0;31m---------------------------------------------------------------------------\u001b[0m",
      "\u001b[0;31mIOError\u001b[0m                                   Traceback (most recent call last)",
      "\u001b[0;32m<ipython-input-2-cafb976d6a26>\u001b[0m in \u001b[0;36m<module>\u001b[0;34m()\u001b[0m\n\u001b[1;32m     96\u001b[0m \u001b[0;34m\u001b[0m\u001b[0m\n\u001b[1;32m     97\u001b[0m \u001b[0;32mif\u001b[0m \u001b[0m__name__\u001b[0m\u001b[0;34m==\u001b[0m\u001b[0;34m\"__main__\"\u001b[0m\u001b[0;34m:\u001b[0m\u001b[0;34m\u001b[0m\u001b[0m\n\u001b[0;32m---> 98\u001b[0;31m   \u001b[0mmain\u001b[0m\u001b[0;34m(\u001b[0m\u001b[0;34m)\u001b[0m\u001b[0;34m\u001b[0m\u001b[0m\n\u001b[0m",
      "\u001b[0;32m<ipython-input-2-cafb976d6a26>\u001b[0m in \u001b[0;36mmain\u001b[0;34m()\u001b[0m\n\u001b[1;32m      1\u001b[0m \u001b[0mNUM_SAMPLE\u001b[0m \u001b[0;34m=\u001b[0m \u001b[0;36m5000\u001b[0m\u001b[0;34m\u001b[0m\u001b[0m\n\u001b[1;32m      2\u001b[0m \u001b[0;32mdef\u001b[0m \u001b[0mmain\u001b[0m\u001b[0;34m(\u001b[0m\u001b[0;34m)\u001b[0m\u001b[0;34m:\u001b[0m\u001b[0;34m\u001b[0m\u001b[0m\n\u001b[0;32m----> 3\u001b[0;31m  \u001b[0mRF\u001b[0m\u001b[0;34m(\u001b[0m\u001b[0;34m)\u001b[0m\u001b[0;34m\u001b[0m\u001b[0m\n\u001b[0m\u001b[1;32m      4\u001b[0m  \u001b[0;31m# KNN()\u001b[0m\u001b[0;34m\u001b[0m\u001b[0;34m\u001b[0m\u001b[0m\n\u001b[1;32m      5\u001b[0m \u001b[0;34m\u001b[0m\u001b[0m\n",
      "\u001b[0;32m<ipython-input-2-cafb976d6a26>\u001b[0m in \u001b[0;36mRF\u001b[0;34m()\u001b[0m\n\u001b[1;32m     93\u001b[0m     \u001b[0;32mprint\u001b[0m \u001b[0;34m'after predict B'\u001b[0m\u001b[0;34m\u001b[0m\u001b[0m\n\u001b[1;32m     94\u001b[0m \u001b[0;34m\u001b[0m\u001b[0m\n\u001b[0;32m---> 95\u001b[0;31m     \u001b[0mimsave\u001b[0m\u001b[0;34m(\u001b[0m\u001b[0;34m'images/target2_n=100_ml='\u001b[0m \u001b[0;34m+\u001b[0m \u001b[0mstr\u001b[0m\u001b[0;34m(\u001b[0m\u001b[0mk\u001b[0m\u001b[0;34m)\u001b[0m \u001b[0;34m+\u001b[0m \u001b[0;34m'.jpg'\u001b[0m\u001b[0;34m,\u001b[0m \u001b[0mdstack\u001b[0m\u001b[0;34m(\u001b[0m\u001b[0;34m(\u001b[0m\u001b[0mresR\u001b[0m\u001b[0;34m,\u001b[0m \u001b[0mresG\u001b[0m\u001b[0;34m,\u001b[0m \u001b[0mresB\u001b[0m\u001b[0;34m)\u001b[0m\u001b[0;34m)\u001b[0m\u001b[0;34m)\u001b[0m\u001b[0;34m\u001b[0m\u001b[0m\n\u001b[0m\u001b[1;32m     96\u001b[0m \u001b[0;34m\u001b[0m\u001b[0m\n\u001b[1;32m     97\u001b[0m \u001b[0;32mif\u001b[0m \u001b[0m__name__\u001b[0m\u001b[0;34m==\u001b[0m\u001b[0;34m\"__main__\"\u001b[0m\u001b[0;34m:\u001b[0m\u001b[0;34m\u001b[0m\u001b[0m\n",
      "\u001b[0;32m/Users/zaidhaque/anaconda2/envs/py27/lib/python2.7/site-packages/scipy/misc/pilutil.pyc\u001b[0m in \u001b[0;36mimsave\u001b[0;34m(name, arr, format)\u001b[0m\n\u001b[1;32m    195\u001b[0m     \u001b[0mim\u001b[0m \u001b[0;34m=\u001b[0m \u001b[0mtoimage\u001b[0m\u001b[0;34m(\u001b[0m\u001b[0marr\u001b[0m\u001b[0;34m,\u001b[0m \u001b[0mchannel_axis\u001b[0m\u001b[0;34m=\u001b[0m\u001b[0;36m2\u001b[0m\u001b[0;34m)\u001b[0m\u001b[0;34m\u001b[0m\u001b[0m\n\u001b[1;32m    196\u001b[0m     \u001b[0;32mif\u001b[0m \u001b[0mformat\u001b[0m \u001b[0;32mis\u001b[0m \u001b[0mNone\u001b[0m\u001b[0;34m:\u001b[0m\u001b[0;34m\u001b[0m\u001b[0m\n\u001b[0;32m--> 197\u001b[0;31m         \u001b[0mim\u001b[0m\u001b[0;34m.\u001b[0m\u001b[0msave\u001b[0m\u001b[0;34m(\u001b[0m\u001b[0mname\u001b[0m\u001b[0;34m)\u001b[0m\u001b[0;34m\u001b[0m\u001b[0m\n\u001b[0m\u001b[1;32m    198\u001b[0m     \u001b[0;32melse\u001b[0m\u001b[0;34m:\u001b[0m\u001b[0;34m\u001b[0m\u001b[0m\n\u001b[1;32m    199\u001b[0m         \u001b[0mim\u001b[0m\u001b[0;34m.\u001b[0m\u001b[0msave\u001b[0m\u001b[0;34m(\u001b[0m\u001b[0mname\u001b[0m\u001b[0;34m,\u001b[0m \u001b[0mformat\u001b[0m\u001b[0;34m)\u001b[0m\u001b[0;34m\u001b[0m\u001b[0m\n",
      "\u001b[0;32m/Users/zaidhaque/anaconda2/envs/py27/lib/python2.7/site-packages/PIL/Image.pyc\u001b[0m in \u001b[0;36msave\u001b[0;34m(self, fp, format, **params)\u001b[0m\n\u001b[1;32m   1680\u001b[0m \u001b[0;34m\u001b[0m\u001b[0m\n\u001b[1;32m   1681\u001b[0m         \u001b[0;32mif\u001b[0m \u001b[0mopen_fp\u001b[0m\u001b[0;34m:\u001b[0m\u001b[0;34m\u001b[0m\u001b[0m\n\u001b[0;32m-> 1682\u001b[0;31m             \u001b[0mfp\u001b[0m \u001b[0;34m=\u001b[0m \u001b[0mbuiltins\u001b[0m\u001b[0;34m.\u001b[0m\u001b[0mopen\u001b[0m\u001b[0;34m(\u001b[0m\u001b[0mfilename\u001b[0m\u001b[0;34m,\u001b[0m \u001b[0;34m\"wb\"\u001b[0m\u001b[0;34m)\u001b[0m\u001b[0;34m\u001b[0m\u001b[0m\n\u001b[0m\u001b[1;32m   1683\u001b[0m \u001b[0;34m\u001b[0m\u001b[0m\n\u001b[1;32m   1684\u001b[0m         \u001b[0;32mtry\u001b[0m\u001b[0;34m:\u001b[0m\u001b[0;34m\u001b[0m\u001b[0m\n",
      "\u001b[0;31mIOError\u001b[0m: [Errno 2] No such file or directory: 'images/target2_n=100_ml=2.jpg'"
     ]
    }
   ],
   "source": [
    "NUM_SAMPLE = 5000\n",
    "def main():\n",
    " RF()\n",
    " # KNN()\n",
    "\n",
    "def KNN():\n",
    "  # read figure\n",
    "  # img[row][column][rgb]\n",
    "  img = imread('img/monalisa.jpg', flatten=False)\n",
    "  row = len(img)\n",
    "  column = len(img[0])\n",
    "\n",
    "  train = []\n",
    "  rArr = []\n",
    "  gArr = []\n",
    "  bArr = []\n",
    "  rows = randint(row, size=NUM_SAMPLE)\n",
    "  columns = randint(column, size=NUM_SAMPLE)\n",
    "\n",
    "  for i in range(0, NUM_SAMPLE):\n",
    "    train.append([rows[i], columns[i]])\n",
    "    rArr.append(img[rows[i]][columns[i]][0]/255.0)\n",
    "    gArr.append(img[rows[i]][columns[i]][1]/255.0)\n",
    "    bArr.append(img[rows[i]][columns[i]][2]/255.0)\n",
    "\n",
    "  test = vstack(indices((row,column)).swapaxes(0,2).swapaxes(0,1))\n",
    "  for k in [2,3,5,10,20,100]:\n",
    "    KNN = KNeighborsRegressor(n_neighbors=k)\n",
    "    KNN.fit(train, rArr)\n",
    "    resR = map(lambda x: int(x * 255), KNN.predict(test))\n",
    "    resR = array(resR).reshape((row, column))\n",
    "\n",
    "    KNN.fit(train, gArr)\n",
    "    resG = map(lambda x: int(x * 255), KNN.predict(test))\n",
    "    resG = array(resG).reshape((row, column))\n",
    "\n",
    "    KNN.fit(train, bArr)\n",
    "    resB = map(lambda x: int(x * 255), KNN.predict(test))\n",
    "    resB = array(resB).reshape((row, column))\n",
    "\n",
    "    imsave('img/monalisa' + str(k) + '_knn.jpg', dstack((resR, resG, resB)))\n",
    "\n",
    "def RF():\n",
    "  # read figure\n",
    "  # img[row][column][rgb]\n",
    "  img = imread('img/monalisa.jpg', flatten=False)\n",
    "  row = len(img)\n",
    "  column = len(img[0])\n",
    "\n",
    "  train = []\n",
    "  rArr = []\n",
    "  gArr = []\n",
    "  bArr = []\n",
    "\n",
    "\n",
    "  rows = randint(row, size=NUM_SAMPLE)\n",
    "  columns = randint(column, size=NUM_SAMPLE)\n",
    "\n",
    "  for i in range(0, NUM_SAMPLE):\n",
    "    train.append([rows[i], columns[i]])\n",
    "    rArr.append(img[rows[i]][columns[i]][0]/255.0)\n",
    "    gArr.append(img[rows[i]][columns[i]][1]/255.0)\n",
    "    bArr.append(img[rows[i]][columns[i]][2]/255.0)\n",
    "\n",
    "  for k in [2,5,20,100,1000,5000,10000]:\n",
    "    print 'k = ' + str(k)\n",
    "\n",
    "    RFR= RandomForestRegressor(n_estimators=100, max_leaf_nodes=k)\n",
    "    RFG= RandomForestRegressor(n_estimators=100, max_leaf_nodes=k)\n",
    "    RFB= RandomForestRegressor(n_estimators=100, max_leaf_nodes=k)\n",
    "\n",
    "    test = vstack(indices((row,column)).swapaxes(0,2).swapaxes(0,1))\n",
    "\n",
    "    print 'start fit R'\n",
    "    RFR.fit(train, rArr)\n",
    "    print 'after fit R'\n",
    "    resR = map(lambda x: int(x * 255), RFR.predict(test))\n",
    "    resR = array(resR).reshape((row, column))\n",
    "    print 'after predict R'\n",
    "\n",
    "    print 'start fit G'\n",
    "    RFG.fit(train, gArr)\n",
    "    print 'after fit G'\n",
    "    resG = map(lambda x: int(x * 255), RFG.predict(test))\n",
    "    resG = array(resG).reshape((row, column))\n",
    "    print 'after predict G'\n",
    "\n",
    "    print 'start fit B'\n",
    "    RFB.fit(train, bArr)\n",
    "    print 'after fit B'\n",
    "    resB = map(lambda x: int(x * 255), RFB.predict(test))\n",
    "    resB = array(resB).reshape((row, column))\n",
    "    print 'after predict B'\n",
    "\n",
    "    imsave('images/target2_n=100_ml=' + str(k) + '.jpg', dstack((resR, resG, resB)))\n",
    "\n",
    "if __name__==\"__main__\":\n",
    "  main()"
   ]
  },
  {
   "cell_type": "code",
   "execution_count": null,
   "metadata": {
    "collapsed": true
   },
   "outputs": [],
   "source": []
  }
 ],
 "metadata": {
  "anaconda-cloud": {},
  "kernelspec": {
   "display_name": "Python [conda env:py27]",
   "language": "python",
   "name": "conda-env-py27-py"
  },
  "language_info": {
   "codemirror_mode": {
    "name": "ipython",
    "version": 2
   },
   "file_extension": ".py",
   "mimetype": "text/x-python",
   "name": "python",
   "nbconvert_exporter": "python",
   "pygments_lexer": "ipython2",
   "version": "2.7.12"
  }
 },
 "nbformat": 4,
 "nbformat_minor": 1
}
